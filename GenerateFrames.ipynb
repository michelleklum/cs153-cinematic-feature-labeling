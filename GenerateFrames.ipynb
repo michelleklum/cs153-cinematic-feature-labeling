{
 "cells": [
  {
   "cell_type": "markdown",
   "id": "432c67b1",
   "metadata": {},
   "source": [
    "# Generate Frames from Video Clips"
   ]
  },
  {
   "cell_type": "markdown",
   "id": "eca7306b",
   "metadata": {},
   "source": [
    "A script for generating frames from video clips in `mp4` format.\n",
    "\n",
    "This script assumes that there is a `clips` folder with `mp4` video clip files (e.g. `amadeus.mp4`) in the same directory as the script."
   ]
  },
  {
   "cell_type": "code",
   "execution_count": 1,
   "id": "57230feb",
   "metadata": {},
   "outputs": [],
   "source": [
    "import os\n",
    "  \n",
    "# Get list of all files and directories in clips directory\n",
    "file_list = os.listdir(\"clips\")\n",
    "\n",
    "# For each clip, make a frames directory if it doesn't already exist\n",
    "for filename in file_list:\n",
    "    # We only want to make frames directories for our video clips, which are mp4 files\n",
    "    if filename.endswith(\".mp4\"):\n",
    "        clip, extension = filename.split(\".\")\n",
    "        \n",
    "        # If a directory for frames does not currently exist, make that directory\n",
    "        frames_dir_path = \"frames\"\n",
    "        if not os.path.isdir(frames_dir_path):\n",
    "            ! mkdir {frames_dir_path}\n",
    "\n",
    "        # If a directory for current clip's frames does not currently exist, make that directory\n",
    "        clip_frames_dir_path = \"frames/\" + clip + \"_frames\"\n",
    "        if not os.path.isdir(clip_frames_dir_path):\n",
    "            ! mkdir {clip_frames_dir_path}"
   ]
  },
  {
   "cell_type": "markdown",
   "id": "792b2013",
   "metadata": {},
   "source": [
    "I wasn't able to run the `ffmpeg` command inside my Jupyter Notebook, so I instead just ran it directly in Terminal with my `cs153-virtual-environment` virtual environment activated. The following command generates frames from the `amadeus.mp4` video clip, writing the frames to the clip's frames directory created above:"
   ]
  },
  {
   "cell_type": "markdown",
   "id": "bcab72ae",
   "metadata": {},
   "source": [
    "`ffmpeg -i clips/amadeus.mp4 \"frames/amadeus_frames/amadeus_%05d.jpg\"`"
   ]
  }
 ],
 "metadata": {
  "kernelspec": {
   "display_name": "Python 3 (ipykernel)",
   "language": "python",
   "name": "python3"
  },
  "language_info": {
   "codemirror_mode": {
    "name": "ipython",
    "version": 3
   },
   "file_extension": ".py",
   "mimetype": "text/x-python",
   "name": "python",
   "nbconvert_exporter": "python",
   "pygments_lexer": "ipython3",
   "version": "3.8.12"
  }
 },
 "nbformat": 4,
 "nbformat_minor": 5
}
