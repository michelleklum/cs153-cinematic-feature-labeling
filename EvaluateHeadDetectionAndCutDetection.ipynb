{
 "cells": [
  {
   "cell_type": "markdown",
   "id": "c27af3fc",
   "metadata": {},
   "source": [
    "# Evaluate Head Detection and Cut Detection"
   ]
  },
  {
   "cell_type": "markdown",
   "id": "9766448f",
   "metadata": {},
   "source": [
    "A script for evaluating the performance of a system (e.g. head detection, cut detection) against ground truth face and cut labels from `txt` files with hand coding data in [the Gaze Data for the Analysis of Attention in Feature Films dataset](http://graphics.stanford.edu/~kbreeden/gazedata.html).\n",
    "\n",
    "Takes in pickled dictionaries of ground truth labels and labels created by the system being evaluated. Each dictionary has keys that are frame numbers and values that indicate whether or not the frame contains the feature (0 if the frame does not contain the feature; 1 if the frame does). Compares the two dictionaries to compute accuracy, precision, recall, and F1 scores."
   ]
  },
  {
   "cell_type": "code",
   "execution_count": 1,
   "id": "506dba37",
   "metadata": {},
   "outputs": [],
   "source": [
    "import os\n",
    "import pickle\n",
    "import collections"
   ]
  },
  {
   "cell_type": "code",
   "execution_count": 2,
   "id": "bb68f0ef",
   "metadata": {},
   "outputs": [],
   "source": [
    "import matplotlib.pyplot as plt\n",
    "\n",
    "%matplotlib inline"
   ]
  },
  {
   "cell_type": "code",
   "execution_count": 3,
   "id": "68a82b66",
   "metadata": {},
   "outputs": [],
   "source": [
    "def load_pickled_labels_into_dict(label_dicts_dir_path, filename_part_to_drop):\n",
    "    \"\"\"\n",
    "    Loads pickled frame-to-feature dictionaries for multiple clips into a single nested dictionary for all clips.\n",
    "    \n",
    "    Parameters:\n",
    "    - label_dicts_dir_path: the path to the folder containing the pickled frame-to-feature dictionaries (of all the clips) for this feature.\n",
    "    - filename_part_to_drop: the part of the pickled frame-to-feature dictionary filenames we should drop (for determining clip name keys for the single nested dictionary).\n",
    "    \n",
    "    Returns a nested dictionary where keys are clip names, and values are dictionaries mapping frame number keys to feature label values (0 if feature is not in the frame; 1 if it is).\n",
    "    \"\"\"\n",
    "    # Get list of all files and directories in the directory with all the pickled frame-to-feature dictionaries for all the clips\n",
    "    file_list = os.listdir(label_dicts_dir_path)\n",
    "\n",
    "    # Create dictionary where keys are clip names, values are dictionaries of the frame-to-feature labels\n",
    "    label_dicts = {}\n",
    "    # For each pickled dict...\n",
    "    for filename in file_list:\n",
    "        # We only want to process our pickled dictionaries, which are pkl files\n",
    "        if filename.endswith(\".pkl\"):\n",
    "            clip = filename.replace(filename_part_to_drop, \"\")\n",
    "\n",
    "            # Load (deserialize) pickled data\n",
    "            with open(label_dicts_dir_path + \"/\" + filename, \"rb\") as f:\n",
    "                label_dicts[clip] = pickle.load(f)\n",
    "                \n",
    "    return label_dicts"
   ]
  },
  {
   "cell_type": "code",
   "execution_count": 4,
   "id": "aead2658",
   "metadata": {},
   "outputs": [],
   "source": [
    "def evaluate_system(system_labels, ground_truth_labels):\n",
    "    \"\"\"\n",
    "    Evaluates the performance of a system by comparing labels as assigned by the system, versus ground-truth labels.\n",
    "    \n",
    "    Parameters:\n",
    "    - system_labels: feature labels assigned by our system.\n",
    "    - ground_truth_labels: ground-truth feature labels from the hand coding in the Gaze dataset.\n",
    "    Each parameter is a dictionary from clip name keys to values of dictionaries of frame number keys to feature binary label values (0 if feature is not in the frame; 1 if it is).\n",
    "    \n",
    "    Returns dictionary of num of true positives, num of true negatives, num of false positives, num of false negatives, as well as system's accuracy, precision, recall, and F1 scores.\n",
    "    \"\"\"\n",
    "    # Create a Counter of (system prediction, ground truth label) tuples\n",
    "    c = collections.Counter()\n",
    "    \n",
    "    # For each clip...\n",
    "    for clip in system_labels:\n",
    "        # For each frame...\n",
    "        for frame_num in system_labels[clip]:\n",
    "            system = system_labels[clip][frame_num]\n",
    "            ground_truth = ground_truth_labels[clip][frame_num]\n",
    "            c[(system, ground_truth)] += 1\n",
    "\n",
    "    # Count the number of true positives (tn), true negatives (tn), false positives (fp), and false negatives (fn)\n",
    "    # 1 (frame contains the feature) is the positive class, and 0 (frame does not contain the feature) is the negative class\n",
    "    tp = c[(1, 1)] # system predicted 1, and ground truth was actually 1 \n",
    "    tn = c[(0, 0)] # system predicted 0, and ground truth was actually 0\n",
    "    fp = c[(1, 0)] # system predicted 1, but ground truth was actually 0\n",
    "    fn = c[(0, 1)] # system predicted 0, but ground truth was actually 1\n",
    "    \n",
    "    # Compute evaluation metrics: accuracy, precision, recall, and F1\n",
    "    accuracy  = (tp + tn) / sum(c.values())\n",
    "    precision = tp / (tp + fp) if (tp + fp) > 0 else 0.0 # given a prediction, what is the likelihood that prediction is accurate?\n",
    "    recall = tp / (tp + fn) if (tp + fn) > 0 else 0.0    # out of all the actual positives out there, how many did we find?\n",
    "    f1 = 2 * precision * recall / (precision + recall) if (precision + recall) > 0 else 0.0\n",
    "\n",
    "    results = {\"truePositives\": tp, \"trueNegatives\": tn, \"falsePositives\": fp, \"falseNegatives\": fn,\n",
    "               \"accuracy\": accuracy, \"precision\": precision, \"recall\": recall, \"f1\": f1}\n",
    "    return results"
   ]
  },
  {
   "cell_type": "markdown",
   "id": "3b058246",
   "metadata": {},
   "source": [
    "## Evaluate Performance of Head Detection Using A Single Haar Cascade"
   ]
  },
  {
   "cell_type": "code",
   "execution_count": 5,
   "id": "ad264f1d",
   "metadata": {
    "scrolled": true
   },
   "outputs": [
    {
     "data": {
      "text/plain": [
       "{'truePositives': 12896,\n",
       " 'trueNegatives': 12684,\n",
       " 'falsePositives': 220,\n",
       " 'falseNegatives': 28326,\n",
       " 'accuracy': 0.47260096811144364,\n",
       " 'precision': 0.98322659347362,\n",
       " 'recall': 0.3128426568337296,\n",
       " 'f1': 0.4746586182781846}"
      ]
     },
     "execution_count": 5,
     "metadata": {},
     "output_type": "execute_result"
    }
   ],
   "source": [
    "# Load all head labels predicted by a Haar Cascade head detection system into a single nested dictionary\n",
    "head_haar_dicts = load_pickled_labels_into_dict(\"head_label_dicts_haar\", \"_frame_to_head_dict.pkl\")\n",
    "\n",
    "# Load all ground-truth face labels from the hand coding in the Gaze dataset into a single nested dictionary\n",
    "ground_truth_dicts = load_pickled_labels_into_dict(\"ground_truth_face_label_dicts\", \"_hcode_frame_to_face_dict.pkl\")\n",
    "\n",
    "# Evaluate performance of head detection using Haar Cascades\n",
    "evaluate_system(head_haar_dicts, ground_truth_dicts)"
   ]
  },
  {
   "cell_type": "markdown",
   "id": "4cb79f81",
   "metadata": {},
   "source": [
    "## Evaluate Performance of Head Detection Using Two Haar Cascades"
   ]
  },
  {
   "cell_type": "code",
   "execution_count": 6,
   "id": "a024ac76",
   "metadata": {},
   "outputs": [
    {
     "data": {
      "text/plain": [
       "{'truePositives': 14235,\n",
       " 'trueNegatives': 12654,\n",
       " 'falsePositives': 250,\n",
       " 'falseNegatives': 26987,\n",
       " 'accuracy': 0.4967852787939253,\n",
       " 'precision': 0.9827407663099759,\n",
       " 'recall': 0.34532531172674785,\n",
       " 'f1': 0.5110668318164683}"
      ]
     },
     "execution_count": 6,
     "metadata": {},
     "output_type": "execute_result"
    }
   ],
   "source": [
    "# Load all head labels predicted by a multiple Haar Cascade head detection system into a single nested dictionary\n",
    "head_haar_multiple_dicts = load_pickled_labels_into_dict(\"head_label_dicts_haar_multiple_2\", \"_frame_to_head_dict.pkl\")\n",
    "\n",
    "# Load all ground-truth face labels from the hand coding in the Gaze dataset into a single nested dictionary\n",
    "ground_truth_dicts = load_pickled_labels_into_dict(\"ground_truth_face_label_dicts\", \"_hcode_frame_to_face_dict.pkl\")\n",
    "\n",
    "# Evaluate performance of head detection using multiple Haar Cascades\n",
    "evaluate_system(head_haar_multiple_dicts, ground_truth_dicts)"
   ]
  },
  {
   "cell_type": "markdown",
   "id": "f3291940",
   "metadata": {},
   "source": [
    "## Evaluate Performance of Head Detection Using Three Haar Cascades"
   ]
  },
  {
   "cell_type": "code",
   "execution_count": 7,
   "id": "bed49712",
   "metadata": {},
   "outputs": [
    {
     "data": {
      "text/plain": [
       "{'truePositives': 14974,\n",
       " 'trueNegatives': 12643,\n",
       " 'falsePositives': 261,\n",
       " 'falseNegatives': 26248,\n",
       " 'accuracy': 0.5102353767135942,\n",
       " 'precision': 0.9828683951427634,\n",
       " 'recall': 0.36325263208966085,\n",
       " 'f1': 0.5304568078360522}"
      ]
     },
     "execution_count": 7,
     "metadata": {},
     "output_type": "execute_result"
    }
   ],
   "source": [
    "# Load all head labels predicted by a multiple Haar Cascade head detection system into a single nested dictionary\n",
    "head_haar_multiple_dicts = load_pickled_labels_into_dict(\"head_label_dicts_haar_multiple_3\", \"_frame_to_head_dict.pkl\")\n",
    "\n",
    "# Load all ground-truth face labels from the hand coding in the Gaze dataset into a single nested dictionary\n",
    "ground_truth_dicts = load_pickled_labels_into_dict(\"ground_truth_face_label_dicts\", \"_hcode_frame_to_face_dict.pkl\")\n",
    "\n",
    "# Evaluate performance of head detection using multiple Haar Cascades\n",
    "evaluate_system(head_haar_multiple_dicts, ground_truth_dicts)"
   ]
  },
  {
   "cell_type": "markdown",
   "id": "e30058f3",
   "metadata": {},
   "source": [
    "## Evaluate Performance of Cut Detection Using Lucas-Kanade Optical Flow"
   ]
  },
  {
   "cell_type": "markdown",
   "id": "3a899a48",
   "metadata": {},
   "source": [
    "Lucas-Kanade optical flow with `err_threshold` of 20 and `num_votes_threshold` of 0.6."
   ]
  },
  {
   "cell_type": "code",
   "execution_count": 8,
   "id": "82676e77",
   "metadata": {},
   "outputs": [
    {
     "data": {
      "text/plain": [
       "{'truePositives': 772,\n",
       " 'trueNegatives': 51415,\n",
       " 'falsePositives': 1353,\n",
       " 'falseNegatives': 571,\n",
       " 'accuracy': 0.9644434588161372,\n",
       " 'precision': 0.3632941176470588,\n",
       " 'recall': 0.5748324646314222,\n",
       " 'f1': 0.4452133794694349}"
      ]
     },
     "execution_count": 8,
     "metadata": {},
     "output_type": "execute_result"
    }
   ],
   "source": [
    "# Load all cut labels predicted by a Lucas-Kanade optical flow head detection system into a single nested dictionary\n",
    "cut_lk_optical_flow_dicts = load_pickled_labels_into_dict(\"cut_label_dicts_lk_optical_flow/cut_label_dicts_lk_optical_flow_err_20_votes_0.6\", \"_frame_to_cut_dict.pkl\")\n",
    "\n",
    "# Load all ground-truth cut labels from the hand coding in the Gaze dataset into a single nested dictionary\n",
    "ground_truth_dicts = load_pickled_labels_into_dict(\"ground_truth_cut_label_dicts\", \"_hcode_frame_to_cut_dict.pkl\")\n",
    "\n",
    "# Evaluate performance of cut detection using Lucas-Kanade optical flow\n",
    "evaluate_system(cut_lk_optical_flow_dicts, ground_truth_dicts)"
   ]
  },
  {
   "cell_type": "markdown",
   "id": "149e34e5",
   "metadata": {},
   "source": [
    "Break down results for Lucas-Kanade optical flow by each film clip."
   ]
  },
  {
   "cell_type": "code",
   "execution_count": 9,
   "id": "3aecbaaa",
   "metadata": {},
   "outputs": [
    {
     "name": "stdout",
     "output_type": "stream",
     "text": [
      "amadeus\n",
      "{'truePositives': 60, 'trueNegatives': 4610, 'falsePositives': 6, 'falseNegatives': 22, 'accuracy': 0.9940400170285227, 'precision': 0.9090909090909091, 'recall': 0.7317073170731707, 'f1': 0.8108108108108109}\n",
      "\n",
      "shakespeare_clip1\n",
      "{'truePositives': 18, 'trueNegatives': 1855, 'falsePositives': 38, 'falseNegatives': 8, 'accuracy': 0.976029181865555, 'precision': 0.32142857142857145, 'recall': 0.6923076923076923, 'f1': 0.4390243902439025}\n",
      "\n",
      "departed\n",
      "{'truePositives': 38, 'trueNegatives': 2241, 'falsePositives': 6, 'falseNegatives': 18, 'accuracy': 0.9895788102475033, 'precision': 0.8636363636363636, 'recall': 0.6785714285714286, 'f1': 0.76}\n",
      "\n",
      "unforgiven\n",
      "{'truePositives': 74, 'trueNegatives': 3376, 'falsePositives': 21, 'falseNegatives': 14, 'accuracy': 0.9899569583931134, 'precision': 0.7789473684210526, 'recall': 0.8409090909090909, 'f1': 0.808743169398907}\n",
      "\n",
      "no_country_clip2\n",
      "{'truePositives': 22, 'trueNegatives': 1316, 'falsePositives': 2, 'falseNegatives': 4, 'accuracy': 0.9955357142857143, 'precision': 0.9166666666666666, 'recall': 0.8461538461538461, 'f1': 0.8799999999999999}\n",
      "\n",
      "kings\n",
      "{'truePositives': 45, 'trueNegatives': 4207, 'falsePositives': 7, 'falseNegatives': 33, 'accuracy': 0.9906803355079217, 'precision': 0.8653846153846154, 'recall': 0.5769230769230769, 'f1': 0.6923076923076923}\n",
      "\n",
      "saving\n",
      "{'truePositives': 35, 'trueNegatives': 3714, 'falsePositives': 360, 'falseNegatives': 31, 'accuracy': 0.9055555555555556, 'precision': 0.08860759493670886, 'recall': 0.5303030303030303, 'f1': 0.15184381778741865}\n",
      "\n",
      "emperor\n",
      "{'truePositives': 35, 'trueNegatives': 3123, 'falsePositives': 25, 'falseNegatives': 5, 'accuracy': 0.9905897114178168, 'precision': 0.5833333333333334, 'recall': 0.875, 'f1': 0.7000000000000001}\n",
      "\n",
      "no_country_clip1\n",
      "{'truePositives': 32, 'trueNegatives': 2802, 'falsePositives': 6, 'falseNegatives': 14, 'accuracy': 0.9929922915206727, 'precision': 0.8421052631578947, 'recall': 0.6956521739130435, 'f1': 0.761904761904762}\n",
      "\n",
      "gladiator\n",
      "{'truePositives': 148, 'trueNegatives': 3742, 'falsePositives': 280, 'falseNegatives': 215, 'accuracy': 0.887115165336374, 'precision': 0.34579439252336447, 'recall': 0.40771349862258954, 'f1': 0.37420986093552466}\n",
      "\n",
      "chicago\n",
      "{'truePositives': 62, 'trueNegatives': 3388, 'falsePositives': 73, 'falseNegatives': 66, 'accuracy': 0.9612705488994149, 'precision': 0.45925925925925926, 'recall': 0.484375, 'f1': 0.47148288973384034}\n",
      "\n",
      "argo\n",
      "{'truePositives': 55, 'trueNegatives': 4921, 'falsePositives': 99, 'falseNegatives': 81, 'accuracy': 0.9650892164468581, 'precision': 0.35714285714285715, 'recall': 0.40441176470588236, 'f1': 0.37931034482758624}\n",
      "\n",
      "shakespeare_clip2\n",
      "{'truePositives': 4, 'trueNegatives': 2950, 'falsePositives': 2, 'falseNegatives': 30, 'accuracy': 0.9892833221701273, 'precision': 0.6666666666666666, 'recall': 0.11764705882352941, 'f1': 0.2}\n",
      "\n",
      "slumdog\n",
      "{'truePositives': 144, 'trueNegatives': 3411, 'falsePositives': 324, 'falseNegatives': 30, 'accuracy': 0.9094397544128934, 'precision': 0.3076923076923077, 'recall': 0.8275862068965517, 'f1': 0.44859813084112143}\n",
      "\n",
      "birdman\n",
      "{'truePositives': 0, 'trueNegatives': 5759, 'falsePositives': 104, 'falseNegatives': 0, 'accuracy': 0.9822616407982262, 'precision': 0.0, 'recall': 0.0, 'f1': 0.0}\n",
      "\n"
     ]
    }
   ],
   "source": [
    "for clip in cut_lk_optical_flow_dicts:\n",
    "    # Create nested system and ground-truth dictionaries where the only key in the outer dictionary is the name of the current clip\n",
    "    # So that we can see the evaluation metrics for the single clip.\n",
    "    cut_lk_optical_flow_dict = cut_lk_optical_flow_dicts.copy()\n",
    "    clip_names = list(cut_lk_optical_flow_dict.keys())\n",
    "    for clip_name in clip_names:\n",
    "        if clip_name != clip:\n",
    "            del cut_lk_optical_flow_dict[clip_name]\n",
    "\n",
    "    ground_truth_dict = ground_truth_dicts.copy()\n",
    "    for clip_name in clip_names:\n",
    "        if clip_name != clip:\n",
    "            del ground_truth_dict[clip_name]\n",
    "    \n",
    "    print(clip)\n",
    "    print(evaluate_system(cut_lk_optical_flow_dict, ground_truth_dict))\n",
    "    print()\n",
    "    \n",
    "    "
   ]
  },
  {
   "cell_type": "markdown",
   "id": "dc9c8857",
   "metadata": {},
   "source": [
    "## Evaluate Performance of Cut Detection Using Lucas-Kanade Optical Flow, Varying Thresholds"
   ]
  },
  {
   "cell_type": "code",
   "execution_count": 10,
   "id": "b849b02a",
   "metadata": {},
   "outputs": [
    {
     "name": "stdout",
     "output_type": "stream",
     "text": [
      "{(10, 0.5): {'truePositives': 1104, 'trueNegatives': 41882, 'falsePositives': 10886, 'falseNegatives': 239, 'accuracy': 0.7944040952856166, 'precision': 0.0920767306088407, 'recall': 0.8220402084884587, 'f1': 0.16560414010350258}, (10, 0.6): {'truePositives': 1039, 'trueNegatives': 45092, 'falsePositives': 7676, 'falseNegatives': 304, 'accuracy': 0.8525253645284693, 'precision': 0.11921973608720597, 'recall': 0.7736411020104245, 'f1': 0.20660171008152717}, (10, 0.7): {'truePositives': 909, 'trueNegatives': 48018, 'falsePositives': 4750, 'falseNegatives': 434, 'accuracy': 0.9041969285357876, 'precision': 0.1606290864110267, 'recall': 0.676842889054356, 'f1': 0.2596401028277635}, (10, 0.8): {'truePositives': 724, 'trueNegatives': 50130, 'falsePositives': 2638, 'falseNegatives': 619, 'accuracy': 0.9398089113119329, 'precision': 0.21534800713860797, 'recall': 0.5390915860014892, 'f1': 0.3077577045696068}, (10, 0.9): {'truePositives': 512, 'trueNegatives': 51153, 'falsePositives': 1615, 'falseNegatives': 831, 'accuracy': 0.954796621758977, 'precision': 0.24071462153267512, 'recall': 0.3812360387192852, 'f1': 0.2951008645533141}, (20, 0.5): {'truePositives': 874, 'trueNegatives': 51021, 'falsePositives': 1747, 'falseNegatives': 469, 'accuracy': 0.9590471438339709, 'precision': 0.3334605112552461, 'recall': 0.6507818317200298, 'f1': 0.4409687184661958}, (20, 0.6): {'truePositives': 772, 'trueNegatives': 51415, 'falsePositives': 1353, 'falseNegatives': 571, 'accuracy': 0.9644434588161372, 'precision': 0.3632941176470588, 'recall': 0.5748324646314222, 'f1': 0.4452133794694349}, (20, 0.7): {'truePositives': 603, 'trueNegatives': 51673, 'falsePositives': 1095, 'falseNegatives': 740, 'accuracy': 0.9660882260538523, 'precision': 0.3551236749116608, 'recall': 0.44899478778853313, 'f1': 0.3965800723446235}, (20, 0.8): {'truePositives': 428, 'trueNegatives': 51772, 'falsePositives': 996, 'falseNegatives': 915, 'accuracy': 0.9646837057160281, 'precision': 0.300561797752809, 'recall': 0.3186895011169025, 'f1': 0.30936031803397185}, (20, 0.9): {'truePositives': 343, 'trueNegatives': 51840, 'falsePositives': 928, 'falseNegatives': 1000, 'accuracy': 0.9643695366930938, 'precision': 0.26986624704956724, 'recall': 0.25539836187639614, 'f1': 0.26243305279265494}, (25, 0.5): {'truePositives': 759, 'trueNegatives': 51468, 'falsePositives': 1300, 'falseNegatives': 584, 'accuracy': 0.9651826800465709, 'precision': 0.3686255463817387, 'recall': 0.5651526433358154, 'f1': 0.44620811287477957}, (25, 0.6): {'truePositives': 612, 'trueNegatives': 51711, 'falsePositives': 1057, 'falseNegatives': 731, 'accuracy': 0.966956810999612, 'precision': 0.36668663870581186, 'recall': 0.45569620253164556, 'f1': 0.4063745019920319}, (25, 0.7): {'truePositives': 489, 'trueNegatives': 51814, 'falsePositives': 954, 'falseNegatives': 854, 'accuracy': 0.966587200384395, 'precision': 0.3388773388773389, 'recall': 0.3641102010424423, 'f1': 0.3510409188801149}, (25, 0.8): {'truePositives': 391, 'trueNegatives': 51853, 'falsePositives': 915, 'falseNegatives': 952, 'accuracy': 0.9654968490695053, 'precision': 0.2993874425727412, 'recall': 0.2911392405063291, 'f1': 0.295205738014345}, (25, 0.9): {'truePositives': 297, 'trueNegatives': 51851, 'falsePositives': 917, 'falseNegatives': 1046, 'accuracy': 0.9637227181164643, 'precision': 0.24464579901153213, 'recall': 0.22114668652271036, 'f1': 0.23230348064137663}, (30, 0.5): {'truePositives': 652, 'trueNegatives': 51662, 'falsePositives': 1106, 'falseNegatives': 691, 'accuracy': 0.9667904862227643, 'precision': 0.3708759954493743, 'recall': 0.4854802680565897, 'f1': 0.42050951306030304}, (30, 0.6): {'truePositives': 495, 'trueNegatives': 51762, 'falsePositives': 1006, 'falseNegatives': 848, 'accuracy': 0.9657370959693963, 'precision': 0.32978014656895405, 'recall': 0.3685778108711839, 'f1': 0.3481012658227848}, (30, 0.7): {'truePositives': 387, 'trueNegatives': 51844, 'falsePositives': 924, 'falseNegatives': 956, 'accuracy': 0.9652566021696143, 'precision': 0.2951945080091533, 'recall': 0.2881608339538347, 'f1': 0.29163526752072344}, (30, 0.8): {'truePositives': 325, 'trueNegatives': 51867, 'falsePositives': 901, 'falseNegatives': 1018, 'accuracy': 0.9645358614699414, 'precision': 0.26508972267536707, 'recall': 0.24199553239017127, 'f1': 0.253016738030362}, (30, 0.9): {'truePositives': 248, 'trueNegatives': 51859, 'falsePositives': 909, 'falseNegatives': 1095, 'accuracy': 0.9629650163552698, 'precision': 0.2143474503025065, 'recall': 0.18466120625465376, 'f1': 0.19840000000000002}, (40, 0.5): {'truePositives': 415, 'trueNegatives': 51791, 'falsePositives': 977, 'falseNegatives': 928, 'accuracy': 0.9647945889005932, 'precision': 0.29813218390804597, 'recall': 0.3090096798212956, 'f1': 0.303473491773309}, (40, 0.6): {'truePositives': 360, 'trueNegatives': 51830, 'falsePositives': 938, 'falseNegatives': 983, 'accuracy': 0.9644989004084197, 'precision': 0.2773497688751926, 'recall': 0.2680565897244974, 'f1': 0.2726240060583112}, (40, 0.7): {'truePositives': 286, 'trueNegatives': 51861, 'falsePositives': 907, 'falseNegatives': 1057, 'accuracy': 0.9637042375857034, 'precision': 0.23973176865046103, 'recall': 0.21295606850335072, 'f1': 0.2255520504731861}, (40, 0.8): {'truePositives': 259, 'trueNegatives': 51881, 'falsePositives': 887, 'falseNegatives': 1084, 'accuracy': 0.9635748738703775, 'precision': 0.22600349040139617, 'recall': 0.1928518242740134, 'f1': 0.20811570912012856}, (40, 0.9): {'truePositives': 219, 'trueNegatives': 51878, 'falsePositives': 890, 'falseNegatives': 1124, 'accuracy': 0.9627802110476613, 'precision': 0.19747520288548243, 'recall': 0.16306775874906926, 'f1': 0.17862969004893964}, (50, 0.5): {'truePositives': 330, 'trueNegatives': 51842, 'falsePositives': 926, 'falseNegatives': 1013, 'accuracy': 0.9641662508547245, 'precision': 0.2627388535031847, 'recall': 0.2457185405807893, 'f1': 0.25394382454790304}, (50, 0.6): {'truePositives': 284, 'trueNegatives': 51853, 'falsePositives': 915, 'falseNegatives': 1059, 'accuracy': 0.963519432278095, 'precision': 0.23686405337781485, 'recall': 0.2114668652271035, 'f1': 0.22344610542879623}, (50, 0.7): {'truePositives': 238, 'trueNegatives': 51859, 'falsePositives': 909, 'falseNegatives': 1105, 'accuracy': 0.9627802110476613, 'precision': 0.2074978204010462, 'recall': 0.17721518987341772, 'f1': 0.19116465863453816}, (50, 0.8): {'truePositives': 211, 'trueNegatives': 51854, 'falsePositives': 914, 'falseNegatives': 1132, 'accuracy': 0.9621888340633143, 'precision': 0.18755555555555556, 'recall': 0.15711094564408043, 'f1': 0.17098865478119935}, (50, 0.9): {'truePositives': 199, 'trueNegatives': 51853, 'falsePositives': 915, 'falseNegatives': 1144, 'accuracy': 0.9619485871634234, 'precision': 0.17863554757630162, 'recall': 0.14817572598659717, 'f1': 0.161986161986162}}\n"
     ]
    }
   ],
   "source": [
    "# Experiment with thresholds to find most optimal ones for cut detection using Lucas-Kanade.\n",
    "\n",
    "# A window should have err vector value above this err_threshold to contribute to a vote for a cut.\n",
    "# Error measure: L1 distance between patches around the original and a moved point, divided by number of pixels in a window.\n",
    "err_thresholds = [10, 20, 25, 30, 40, 50]\n",
    "# > 50%, 60%, 70%, 80%, 90% of the windows should have err above err_threshold for a cut to be detected btwn old_frame and frame.\n",
    "num_votes_thresholds = [0.5, 0.6, 0.7, 0.8, 0.9]\n",
    "\n",
    "lk_threshold_results = {}\n",
    "\n",
    "for err_threshold in err_thresholds:\n",
    "    for num_votes_threshold in num_votes_thresholds:\n",
    "        # Load all cut labels predicted by a Lucas-Kanade optical flow head detection system into a single nested dictionary\n",
    "        cut_lk_optical_flow_dicts = load_pickled_labels_into_dict(\"cut_label_dicts_lk_optical_flow/cut_label_dicts_lk_optical_flow_err_\" + str(err_threshold) + \"_votes_\" + str(num_votes_threshold), \"_frame_to_cut_dict.pkl\")\n",
    "\n",
    "        # Load all ground-truth cut labels from the hand coding in the Gaze dataset into a single nested dictionary\n",
    "        ground_truth_dicts = load_pickled_labels_into_dict(\"ground_truth_cut_label_dicts\", \"_hcode_frame_to_cut_dict.pkl\")\n",
    "\n",
    "        # Evaluate performance of cut detection using Lucas-Kanade optical flow\n",
    "        lk_threshold_results[(err_threshold, num_votes_threshold)] = evaluate_system(cut_lk_optical_flow_dicts, ground_truth_dicts)\n",
    "\n",
    "print(lk_threshold_results)"
   ]
  },
  {
   "cell_type": "code",
   "execution_count": 11,
   "id": "86e06153",
   "metadata": {},
   "outputs": [
    {
     "data": {
      "image/png": "[encoded data removed]",
      "text/plain": [
       "<Figure size 432x432 with 1 Axes>"
      ]
     },
     "metadata": {
      "needs_background": "light"
     },
     "output_type": "display_data"
    }
   ],
   "source": [
    "# Plot precision-recall curve, keeping num_votes_threshold constant at 0.6, and varying err_threshold to be 10, 20, 25, 30, 40, 50\n",
    "precision_scores = []\n",
    "recall_scores = []\n",
    "num_votes_threshold = 0.6\n",
    "for err_threshold in err_thresholds:\n",
    "    precision_scores.append(lk_threshold_results[(err_threshold, num_votes_threshold)][\"precision\"])\n",
    "    recall_scores.append(lk_threshold_results[(err_threshold, num_votes_threshold)][\"recall\"])\n",
    "\n",
    "fig, ax = plt.subplots(figsize=(6,6))\n",
    "ax.plot(recall_scores, precision_scores)\n",
    "fig.suptitle('Varying Flow Error Threshold Required for a Window to Vote for a Cut')\n",
    "ax.set_title('Flow L1 Distance Error Thresholds: 10, 20, 25, 30, 40, 50')\n",
    "ax.set_xlabel('Recall')\n",
    "ax.set_ylabel('Precision')\n",
    "\n",
    "plt.savefig('cut_detection_precision_recall_curve_lk_optical_flow_err_threshold.jpg')"
   ]
  },
  {
   "cell_type": "code",
   "execution_count": 12,
   "id": "9633efe0",
   "metadata": {},
   "outputs": [
    {
     "data": {
      "image/png": "[encoded data removed]",
      "text/plain": [
       "<Figure size 432x432 with 1 Axes>"
      ]
     },
     "metadata": {
      "needs_background": "light"
     },
     "output_type": "display_data"
    }
   ],
   "source": [
    "# Plot precision-recall curve, keeping err_threshold constant at 25, and varying num_votes_threshold to be 0.5, 0.6, 0.7, 0.8, 0.9\n",
    "precision_scores = []\n",
    "recall_scores = []\n",
    "err_threshold = 25\n",
    "for num_votes_threshold in num_votes_thresholds:\n",
    "    precision_scores.append(lk_threshold_results[(err_threshold, num_votes_threshold)][\"precision\"])\n",
    "    recall_scores.append(lk_threshold_results[(err_threshold, num_votes_threshold)][\"recall\"])\n",
    "\n",
    "fig, ax = plt.subplots(figsize=(6,6))\n",
    "ax.plot(recall_scores, precision_scores)\n",
    "fig.suptitle('Varying Threshold for Proportion of Window Votes Required for a Cut')\n",
    "ax.set_title('Thresholds for Proportion of Window Votes: 0.5, 0.6, 0.7, 0.8, 0.9')\n",
    "ax.set_xlabel('Recall')\n",
    "ax.set_ylabel('Precision')\n",
    "\n",
    "plt.savefig('cut_detection_precision_recall_curve_lk_optical_flow_num_votes_threshold.jpg')"
   ]
  },
  {
   "cell_type": "code",
   "execution_count": null,
   "id": "8212fa9f",
   "metadata": {},
   "outputs": [],
   "source": []
  }
 ],
 "metadata": {
  "kernelspec": {
   "display_name": "Python 3 (ipykernel)",
   "language": "python",
   "name": "python3"
  },
  "language_info": {
   "codemirror_mode": {
    "name": "ipython",
    "version": 3
   },
   "file_extension": ".py",
   "mimetype": "text/x-python",
   "name": "python",
   "nbconvert_exporter": "python",
   "pygments_lexer": "ipython3",
   "version": "3.8.12"
  }
 },
 "nbformat": 4,
 "nbformat_minor": 5
}
