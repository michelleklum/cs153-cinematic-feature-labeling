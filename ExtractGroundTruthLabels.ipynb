{
 "cells": [
  {
   "cell_type": "markdown",
   "id": "5720a725",
   "metadata": {},
   "source": [
    "# Extracting Ground Truth Face and Cut Labels"
   ]
  },
  {
   "cell_type": "markdown",
   "id": "f9cee311",
   "metadata": {},
   "source": [
    "A script for extracting ground truth face and cut labels from `txt` files with hand coding data in [the Gaze Data for the Analysis of Attention in Feature Films dataset](http://graphics.stanford.edu/~kbreeden/gazedata.html).\n",
    "\n",
    "Running the last cell (setting `desired_feature` according to what feature you want to extract ground-truth labels for — e.g. `face` or `cut`) will save a pickled version of a ground truth label dictionary for that feature for each hand coding `txt` file.\n",
    "The dictionary will have keys of frame numbers and values indicating whether or not that frame contains the desired feature (0 means the frame does not contain the feature; 1 means that it does)."
   ]
  },
  {
   "cell_type": "code",
   "execution_count": 1,
   "id": "206f2481",
   "metadata": {},
   "outputs": [],
   "source": [
    "import os\n",
    "import pickle"
   ]
  },
  {
   "cell_type": "code",
   "execution_count": 2,
   "id": "3716c080",
   "metadata": {},
   "outputs": [],
   "source": [
    "def extract_labels(hand_coding_file, desired_feature):\n",
    "    \"\"\"\n",
    "    Extracts hand-coded ground truth labels for a feature for each frame in a Gaze dataset video clip.\n",
    "    \n",
    "    Parameters:\n",
    "    - hand_coding_file: the filename of the handcoding file to parse for ground truth labels, ends with a \".txt\" extension.\n",
    "    - desired_feature: the feature we want to extract the ground-truth label for. (e.g. \"face\" or \"cut\")\n",
    "    \n",
    "    Returns a dictionary where keys are frame numbers, and values are whether or not the frame contains the desired feature (0 if not in the frame; 1 if it is).\n",
    "    \"\"\"\n",
    "    with open(hand_coding_file) as f:\n",
    "        lines = [line for line in f]\n",
    "\n",
    "    # Figure out the last frame number from the line formatted like \"end {start_frame_num} {end_frame_num}\"\n",
    "    for i in range(0, len(lines)):\n",
    "        if \"end\" in lines[i] and \"//\" not in lines[i]:\n",
    "            end_str, end_frame_num_str, end_frame_num_str_again = lines[i].split()\n",
    "\n",
    "    # Populate initial dictionary with keys from start frame number (which is 1) to end frame number,\n",
    "    # all with initial values of 0 (no instance of the feature in the frame).\n",
    "    # This dictionary will contain keys of frame numbers, and values of 0 or 1 indicating whether or not the frame contains the desired feature.\n",
    "    # 0 means the frame does not contain the feature; 1 means that it does.\n",
    "    val = 0\n",
    "    frame_to_feature_dict = {key:val for key in range(1, int(end_frame_num_str) + 1)}\n",
    "\n",
    "    # Determine what hand coding labels correspond to desired feature\n",
    "    # FACES\n",
    "    # f: a single face is present onscreen\n",
    "    # fa: a non-human face is present onscreen\n",
    "    # ff: multiple faces (human and/or nonhuman) are onscreen\n",
    "    # (note: here, we assume that all frames labeled ff have at least 1 human)\n",
    "\n",
    "    # CUTS\n",
    "    # c: plain cut\n",
    "    # mmc: motion matched cut\n",
    "    # xf: cross fade\n",
    "    feature_to_label_map = {\"face\": [\"f\", \"ff\"], \"cut\": [\"c\", \"mmc\", \"xf\"]}\n",
    "    desired_labels = feature_to_label_map[desired_feature]\n",
    "\n",
    "    for i in range(1, len(lines)):\n",
    "        line = lines[i]\n",
    "        cleaned_line = line.replace(\"\\n\", \"\") # remove newline character\n",
    "        if cleaned_line and \"//\" not in cleaned_line: # comments all begin with //\n",
    "            feature, start_frame_num_str, end_frame_num_str = cleaned_line.split()\n",
    "            start_frame_num = int(start_frame_num_str)\n",
    "            end_frame_num = int(end_frame_num_str)\n",
    "            # If this line is for a label indicating the desired feature...\n",
    "            if feature in desired_labels:\n",
    "                # For every frame in the frame range this label applies to, mark that that frame contains the desired feature\n",
    "                # by setting the frame number's value in the dictionary to 1\n",
    "                for frame_num in range(start_frame_num, end_frame_num + 1):\n",
    "                    frame_to_feature_dict[frame_num] = 1\n",
    "    \n",
    "    return frame_to_feature_dict        "
   ]
  },
  {
   "cell_type": "markdown",
   "id": "cb3c5a4c",
   "metadata": {},
   "source": [
    "**Run the block below to run extract ground-truth labels from the `txt` files in the `hand_coding` folder.**\n",
    "\n",
    "Update `desired_feature` variable depending on what feature (\"face\" or \"cut\") you want to extract the ground truth labels for."
   ]
  },
  {
   "cell_type": "code",
   "execution_count": 3,
   "id": "45ffa9b1",
   "metadata": {},
   "outputs": [],
   "source": [
    "# Options: \"face\", \"cut\"\n",
    "desired_feature = \"cut\"\n",
    "        \n",
    "# Get list of all files and directories in hand_coding directory\n",
    "file_list = os.listdir(\"hand_coding\")\n",
    "\n",
    "# For each clip hand coding txt file...\n",
    "for filename in file_list:\n",
    "    # We only want to process our hand coding files, which are txt files\n",
    "    if filename.endswith(\".txt\"):\n",
    "        clip_with_hcode_suffix, extension = filename.split(\".\")\n",
    "        \n",
    "        # Using hand coding file, obtain a dictionary where keys are frame numbers and values indicate whether or not\n",
    "        # the frame contains the desired feature.\n",
    "        # (0 means the frame doesn't contain the desired feature; 1 means the frame does).\n",
    "        frame_to_feature_dict = extract_labels(\"hand_coding/\" + filename, desired_feature)\n",
    "        \n",
    "        # If a directory for pickled ground truth label dictionaries does not currently exist, make that directory\n",
    "        ground_truth_dict_dir_path = \"ground_truth_\" + desired_feature + \"_label_dicts\"\n",
    "        if not os.path.isdir(ground_truth_dict_dir_path):\n",
    "            ! mkdir {ground_truth_dict_dir_path}\n",
    "        \n",
    "        # Save (serialize) pickle of the ground truth label dictionary\n",
    "        pickled_dict_filepath = ground_truth_dict_dir_path + \"/\" + clip_with_hcode_suffix + \"_frame_to_\" + desired_feature + \"_dict\" + \".pkl\"\n",
    "        with open(pickled_dict_filepath, \"wb\") as f:\n",
    "            pickle.dump(frame_to_feature_dict, f)\n",
    "        \n",
    "        # Test loading (deserializing) pickled data to make sure pickled file saved correctly\n",
    "        # with open(pickled_dict_filepath, \"rb\") as f:\n",
    "        #     print(pickle.load(f))"
   ]
  },
  {
   "cell_type": "code",
   "execution_count": null,
   "id": "4a2602d9",
   "metadata": {},
   "outputs": [],
   "source": []
  }
 ],
 "metadata": {
  "kernelspec": {
   "display_name": "Python 3 (ipykernel)",
   "language": "python",
   "name": "python3"
  },
  "language_info": {
   "codemirror_mode": {
    "name": "ipython",
    "version": 3
   },
   "file_extension": ".py",
   "mimetype": "text/x-python",
   "name": "python",
   "nbconvert_exporter": "python",
   "pygments_lexer": "ipython3",
   "version": "3.8.12"
  }
 },
 "nbformat": 4,
 "nbformat_minor": 5
}
