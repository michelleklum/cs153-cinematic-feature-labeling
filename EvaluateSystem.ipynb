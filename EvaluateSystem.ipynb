{
 "cells": [
  {
   "cell_type": "markdown",
   "id": "c27af3fc",
   "metadata": {},
   "source": [
    "# Evaluate System"
   ]
  },
  {
   "cell_type": "markdown",
   "id": "9766448f",
   "metadata": {},
   "source": [
    "A script for evaluating the performance of a system (e.g. head detection, cut detection) against ground truth face and cut labels from `txt` files with hand coding data in [the Gaze Data for the Analysis of Attention in Feature Films dataset](http://graphics.stanford.edu/~kbreeden/gazedata.html).\n",
    "\n",
    "Takes in pickled dictionaries of ground truth labels and labels created by the system being evaluated. Each dictionary has keys that are frame numbers and values that indicate whether or not the frame contains the feature (0 if the frame does not contain the feature; 1 if the frame does). Compares the two dictionaries to compute accuracy, precision, recall, and F1 scores."
   ]
  },
  {
   "cell_type": "code",
   "execution_count": 1,
   "id": "506dba37",
   "metadata": {},
   "outputs": [],
   "source": [
    "import os\n",
    "import pickle\n",
    "import collections"
   ]
  },
  {
   "cell_type": "code",
   "execution_count": 2,
   "id": "68a82b66",
   "metadata": {},
   "outputs": [],
   "source": [
    "def load_pickled_labels_into_dict(label_dicts_dir_path, filename_part_to_drop):\n",
    "    \"\"\"\n",
    "    Loads pickled frame-to-feature dictionaries for multiple clips into a single nested dictionary for all clips.\n",
    "    \n",
    "    Parameters:\n",
    "    - label_dicts_dir_path: the path to the folder containing the pickled frame-to-feature dictionaries (of all the clips) for this feature.\n",
    "    - filename_part_to_drop: the part of the pickled frame-to-feature dictionary filenames we should drop (for determining clip name keys for the single nested dictionary).\n",
    "    \n",
    "    Returns a nested dictionary where keys are clip names, and values are dictionaries mapping frame number keys to feature label values (0 if feature is not in the frame; 1 if it is).\n",
    "    \"\"\"\n",
    "    # Get list of all files and directories in the directory with all the pickled frame-to-feature dictionaries for all the clips\n",
    "    file_list = os.listdir(label_dicts_dir_path)\n",
    "\n",
    "    # Create dictionary where keys are clip names, values are dictionaries of the frame-to-feature labels\n",
    "    label_dicts = {}\n",
    "    # For each pickled dict...\n",
    "    for filename in file_list:\n",
    "        # We only want to process our pickled dictionaries, which are pkl files\n",
    "        if filename.endswith(\".pkl\"):\n",
    "            clip = filename.replace(filename_part_to_drop, \"\")\n",
    "\n",
    "            # Load (deserialize) pickled data\n",
    "            with open(label_dicts_dir_path + \"/\" + filename, \"rb\") as f:\n",
    "                label_dicts[clip] = pickle.load(f)\n",
    "                \n",
    "    return label_dicts"
   ]
  },
  {
   "cell_type": "code",
   "execution_count": 3,
   "id": "aead2658",
   "metadata": {},
   "outputs": [],
   "source": [
    "def evaluate_system(system_labels, ground_truth_labels):\n",
    "    \"\"\"\n",
    "    Evaluates the performance of a system by comparing labels as assigned by the system, versus ground-truth labels.\n",
    "    \n",
    "    Parameters:\n",
    "    - system_labels: feature labels assigned by our system.\n",
    "    - ground_truth_labels: ground-truth feature labels from the hand coding in the Gaze dataset.\n",
    "    Each parameter is a dictionary from clip name keys to values of dictionaries of frame number keys to feature binary label values (0 if feature is not in the frame; 1 if it is).\n",
    "    \n",
    "    Returns dictionary of num of true positives, num of true negatives, num of false positives, num of false negatives, as well as system's accuracy, precision, recall, and F1 scores.\n",
    "    \"\"\"\n",
    "    # Create a Counter of (system prediction, ground truth label) tuples\n",
    "    c = collections.Counter()\n",
    "    \n",
    "    # For each clip...\n",
    "    for clip in system_labels:\n",
    "        # For each frame...\n",
    "        for frame_num in system_labels[clip]:\n",
    "            system = system_labels[clip][frame_num]\n",
    "            ground_truth = ground_truth_labels[clip][frame_num]\n",
    "            c[(system, ground_truth)] += 1\n",
    "\n",
    "    # Count the number of true positives (tn), true negatives (tn), false positives (fp), and false negatives (fn)\n",
    "    # 1 (frame contains the feature) is the positive class, and 0 (frame does not contain the feature) is the negative class\n",
    "    tp = c[(1, 1)] # system predicted 1, and ground truth was actually 1 \n",
    "    tn = c[(0, 0)] # system predicted 0, and ground truth was actually 0\n",
    "    fp = c[(1, 0)] # system predicted 1, but ground truth was actually 0\n",
    "    fn = c[(0, 1)] # system predicted 0, but ground truth was actually 1\n",
    "    \n",
    "    # Compute evaluation metrics: accuracy, precision, recall, and F1\n",
    "    accuracy  = (tp + tn) / sum(c.values())\n",
    "    precision = tp / (tp + fp) if (tp + fp) > 0 else 0.0 # given a prediction, what is the likelihood that prediction is accurate?\n",
    "    recall = tp / (tp + fn) if (tp + fn) > 0 else 0.0    # out of all the actual positives out there, how many did we find?\n",
    "    f1 = 2 * precision * recall / (precision + recall) if (precision + recall) > 0 else 0.0\n",
    "\n",
    "    results = {\"truePositives\": tp, \"trueNegatives\": tn, \"falsePositives\": fp, \"falseNegatives\": fn,\n",
    "               \"accuracy\": accuracy, \"precision\": precision, \"recall\": recall, \"f1\": f1}\n",
    "    return results"
   ]
  },
  {
   "cell_type": "code",
   "execution_count": 4,
   "id": "aa17aac7",
   "metadata": {},
   "outputs": [],
   "source": [
    "# Load all head labels predicted by a Haar Cascade head detection system into a single nested dictionary\n",
    "head_haar_dicts = load_pickled_labels_into_dict(\"head_label_dicts_haar\", \"_frame_to_head_dict.pkl\")\n",
    "\n",
    "# Load all ground-truth face labels from the hand coding in the Gaze dataset into a single nested dictionary\n",
    "ground_truth_dicts = load_pickled_labels_into_dict(\"ground_truth_face_label_dicts\", \"_hcode_frame_to_face_dict.pkl\")"
   ]
  },
  {
   "cell_type": "code",
   "execution_count": 5,
   "id": "ad264f1d",
   "metadata": {},
   "outputs": [
    {
     "data": {
      "text/plain": [
       "{'truePositives': 12896,\n",
       " 'trueNegatives': 12684,\n",
       " 'falsePositives': 220,\n",
       " 'falseNegatives': 28326,\n",
       " 'accuracy': 0.47260096811144364,\n",
       " 'precision': 0.98322659347362,\n",
       " 'recall': 0.3128426568337296,\n",
       " 'f1': 0.4746586182781846}"
      ]
     },
     "execution_count": 5,
     "metadata": {},
     "output_type": "execute_result"
    }
   ],
   "source": [
    "# Evaluate performance of head detection using Haar Cascades\n",
    "evaluate_system(head_haar_dicts, ground_truth_dicts)"
   ]
  }
 ],
 "metadata": {
  "kernelspec": {
   "display_name": "Python 3 (ipykernel)",
   "language": "python",
   "name": "python3"
  },
  "language_info": {
   "codemirror_mode": {
    "name": "ipython",
    "version": 3
   },
   "file_extension": ".py",
   "mimetype": "text/x-python",
   "name": "python",
   "nbconvert_exporter": "python",
   "pygments_lexer": "ipython3",
   "version": "3.8.12"
  }
 },
 "nbformat": 4,
 "nbformat_minor": 5
}
